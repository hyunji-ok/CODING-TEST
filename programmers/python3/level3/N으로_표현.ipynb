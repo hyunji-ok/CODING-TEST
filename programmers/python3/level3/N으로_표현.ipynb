{
  "nbformat": 4,
  "nbformat_minor": 0,
  "metadata": {
    "colab": {
      "name": "N으로 표현.ipynb",
      "provenance": [],
      "private_outputs": true,
      "authorship_tag": "ABX9TyNhud3oRqe87wqrWsyhacTu",
      "include_colab_link": true
    },
    "kernelspec": {
      "name": "python3",
      "display_name": "Python 3"
    }
  },
  "cells": [
    {
      "cell_type": "markdown",
      "metadata": {
        "id": "view-in-github",
        "colab_type": "text"
      },
      "source": [
        "<a href=\"https://colab.research.google.com/github/hyunji-ok/CODING-TEST/blob/master/programmers/python3/level3/N%EC%9C%BC%EB%A1%9C_%ED%91%9C%ED%98%84.ipynb\" target=\"_parent\"><img src=\"https://colab.research.google.com/assets/colab-badge.svg\" alt=\"Open In Colab\"/></a>"
      ]
    },
    {
      "cell_type": "code",
      "metadata": {
        "id": "EhaavafOghh5"
      },
      "source": [
        "def solution(N, number):\n",
        "    S = [0, {N}]\n",
        "    for i in range(2, 9):\n",
        "        case_set = {int(str(N)*i)}\n",
        "        for i_half in range(1, i//2+1):  # S[i_half] S[1]\n",
        "            for x in S[i_half]:\n",
        "                for y in S[i-i_half]:\n",
        "                    case_set.add(x+y)\n",
        "                    case_set.add(x-y)\n",
        "                    case_set.add(y-x) # y-x 케이스 추가\n",
        "                    case_set.add(x*y)\n",
        "                    if x != 0:\n",
        "                        case_set.add(y//x)\n",
        "                    if y != 0:\n",
        "                        case_set.add(x//y)\n",
        "        if number in case_set:\n",
        "            return i\n",
        "        S.append(case_set)\n",
        "    return -1\n",
        "\n",
        "\n",
        "print(solution(2, 11))"
      ],
      "execution_count": null,
      "outputs": []
    }
  ]
}