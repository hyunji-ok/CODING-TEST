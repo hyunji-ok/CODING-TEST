{
  "nbformat": 4,
  "nbformat_minor": 0,
  "metadata": {
    "colab": {
      "name": "124 나라의 숫자.ipynb",
      "provenance": [],
      "private_outputs": true
    },
    "kernelspec": {
      "name": "python3",
      "display_name": "Python 3"
    }
  },
  "cells": [
    {
      "cell_type": "markdown",
      "metadata": {
        "id": "9usu7dYueDn0",
        "colab_type": "text"
      },
      "source": [
        "[문제설명](https://programmers.co.kr/learn/courses/30/lessons/12899)"
      ]
    },
    {
      "cell_type": "code",
      "metadata": {
        "id": "4kNiuTzOdP4M",
        "colab_type": "code",
        "colab": {}
      },
      "source": [
        "def solution(n):\n",
        "    answer = ''\n",
        "    while n>0:\n",
        "        n -= 1\n",
        "        answer = '124'[n%3] + answer\n",
        "        n //= 3\n",
        "    return answer"
      ],
      "execution_count": null,
      "outputs": []
    }
  ]
}