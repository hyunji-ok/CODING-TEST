{
  "nbformat": 4,
  "nbformat_minor": 0,
  "metadata": {
    "colab": {
      "name": "124 나라의 숫자.ipynb",
      "provenance": [],
      "private_outputs": true
    },
    "kernelspec": {
      "name": "python3",
      "display_name": "Python 3"
    }
  },
  "cells": [
    {
      "cell_type": "markdown",
      "metadata": {
        "id": "9usu7dYueDn0",
        "colab_type": "text"
      },
      "source": [
        "# 문제 설명\n",
        "124 나라가 있습니다. 124 나라에서는 10진법이 아닌 다음과 같은 자신들만의 규칙으로 수를 표현합니\n",
        "\n",
        "다.\n",
        "\n",
        "124 나라에는 자연수만 존재합니다.\n",
        "\n",
        "124 나라에는 모든 수를 표현할 때 1, 2, 4만 사용합니다.\n",
        "\n",
        "예를 들어서 124 나라에서 사용하는 숫자는 다음과 같이 변환됩니다.\n",
        "\n",
        "10진법 124 나라 10진법 124 나라\n",
        "\n",
        "1 1 6 14\n",
        "\n",
        "2 2 7 21\n",
        "\n",
        "3 4 8 22\n",
        "\n",
        "4 11 9 24\n",
        "\n",
        "5 12 10 41\n",
        "\n",
        "자연수 n이 매개변수로 주어질 때, n을 124 나라에서 사용하는 숫자로 바꾼 값을 return 하도록 solution 함수를 완성해 주세요.\n",
        "\n",
        "# 제한사항\n",
        "n은 500,000,000이하의 자연수 입니다.\n"
      ]
    },
    {
      "cell_type": "code",
      "metadata": {
        "id": "4kNiuTzOdP4M",
        "colab_type": "code",
        "colab": {}
      },
      "source": [
        "def solution(n):\n",
        "    answer = ''\n",
        "    while n>0:\n",
        "        n -= 1\n",
        "        answer = '124'[n%3] + answer\n",
        "        n //= 3\n",
        "    return answer"
      ],
      "execution_count": null,
      "outputs": []
    }
  ]
}