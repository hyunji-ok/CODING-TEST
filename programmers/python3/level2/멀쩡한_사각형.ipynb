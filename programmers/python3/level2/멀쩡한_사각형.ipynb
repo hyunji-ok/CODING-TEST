{
  "nbformat": 4,
  "nbformat_minor": 0,
  "metadata": {
    "colab": {
      "name": "멀쩡한 사각형.ipynb",
      "provenance": [],
      "private_outputs": true,
      "collapsed_sections": [],
      "authorship_tag": "ABX9TyNn0rNk2ROUl6R+/dfCL9My",
      "include_colab_link": true
    },
    "kernelspec": {
      "name": "python3",
      "display_name": "Python 3"
    }
  },
  "cells": [
    {
      "cell_type": "markdown",
      "metadata": {
        "id": "view-in-github",
        "colab_type": "text"
      },
      "source": [
        "<a href=\"https://colab.research.google.com/github/hyunji-ok/CODING-TEST/blob/master/programmers/python3/level2/%EB%A9%80%EC%A9%A1%ED%95%9C_%EC%82%AC%EA%B0%81%ED%98%95.ipynb\" target=\"_parent\"><img src=\"https://colab.research.google.com/assets/colab-badge.svg\" alt=\"Open In Colab\"/></a>"
      ]
    },
    {
      "cell_type": "markdown",
      "metadata": {
        "id": "5p9NHeblImnr",
        "colab_type": "text"
      },
      "source": [
        "[멀쩡한 사각형](https://programmers.co.kr/learn/courses/30/lessons/62048)"
      ]
    },
    {
      "cell_type": "code",
      "metadata": {
        "id": "O3qhBmM0Il73",
        "colab_type": "code",
        "colab": {}
      },
      "source": [
        "import math\n",
        "def solution(w,h):\n",
        "    return w*h - (w+h-math.gcd(w,h))"
      ],
      "execution_count": null,
      "outputs": []
    }
  ]
}