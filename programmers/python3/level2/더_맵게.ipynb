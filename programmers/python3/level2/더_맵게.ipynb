{
  "nbformat": 4,
  "nbformat_minor": 0,
  "metadata": {
    "colab": {
      "name": "더 맵게.ipynb",
      "provenance": [],
      "private_outputs": true,
      "collapsed_sections": [],
      "authorship_tag": "ABX9TyMDXOgd11ycE9le0l8lX0bw",
      "include_colab_link": true
    },
    "kernelspec": {
      "name": "python3",
      "display_name": "Python 3"
    }
  },
  "cells": [
    {
      "cell_type": "markdown",
      "metadata": {
        "id": "view-in-github",
        "colab_type": "text"
      },
      "source": [
        "<a href=\"https://colab.research.google.com/github/hyunji-ok/CODING-TEST/blob/master/programmers/python3/level2/%EB%8D%94_%EB%A7%B5%EA%B2%8C.ipynb\" target=\"_parent\"><img src=\"https://colab.research.google.com/assets/colab-badge.svg\" alt=\"Open In Colab\"/></a>"
      ]
    },
    {
      "cell_type": "markdown",
      "metadata": {
        "id": "GMndhQ_1rYxm",
        "colab_type": "text"
      },
      "source": [
        "[더 맵게](https://programmers.co.kr/learn/courses/30/lessons/42626)"
      ]
    },
    {
      "cell_type": "code",
      "metadata": {
        "id": "4clB2nQqrW1p",
        "colab_type": "code",
        "colab": {}
      },
      "source": [
        "import heapq\n",
        "\n",
        "def solution(scoville, k):\n",
        "    heap = []\n",
        "    for num in scoville:\n",
        "        heapq.heappush(heap, num)\n",
        "\n",
        "    mix_cnt = 0\n",
        "    while heap[0] < k:\n",
        "        try:\n",
        "            heapq.heappush(heap, heapq.heappop(heap) + (heapq.heappop(heap) * 2))\n",
        "        except IndexError:\n",
        "            return -1\n",
        "        mix_cnt += 1\n",
        "    return mix_cnt"
      ],
      "execution_count": null,
      "outputs": []
    }
  ]
}