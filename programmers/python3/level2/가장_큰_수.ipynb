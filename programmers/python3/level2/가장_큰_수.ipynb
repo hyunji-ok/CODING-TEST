{
  "nbformat": 4,
  "nbformat_minor": 0,
  "metadata": {
    "colab": {
      "name": "가장 큰 수.ipynb",
      "provenance": [],
      "private_outputs": true,
      "collapsed_sections": [],
      "authorship_tag": "ABX9TyOSH17lILMNs0UYeDJHwxx7",
      "include_colab_link": true
    },
    "kernelspec": {
      "name": "python3",
      "display_name": "Python 3"
    }
  },
  "cells": [
    {
      "cell_type": "markdown",
      "metadata": {
        "id": "view-in-github",
        "colab_type": "text"
      },
      "source": [
        "<a href=\"https://colab.research.google.com/github/hyunji-ok/CODING-TEST/blob/master/programmers/python3/level2/%EA%B0%80%EC%9E%A5_%ED%81%B0_%EC%88%98.ipynb\" target=\"_parent\"><img src=\"https://colab.research.google.com/assets/colab-badge.svg\" alt=\"Open In Colab\"/></a>"
      ]
    },
    {
      "cell_type": "markdown",
      "metadata": {
        "id": "6bxaMrhvR6Mc",
        "colab_type": "text"
      },
      "source": [
        "[가장 큰 수](https://programmers.co.kr/learn/courses/30/lessons/42746)"
      ]
    },
    {
      "cell_type": "code",
      "metadata": {
        "id": "XypG4sUSR5zX",
        "colab_type": "code",
        "colab": {}
      },
      "source": [
        "import functools\n",
        "\n",
        "def comparator(a,b):\n",
        "    t1 = a+b\n",
        "    t2 = b+a\n",
        "    return (int(t1) > int(t2)) - (int(t1) < int(t2)) #  t1이 크다면 1  // t2가 크다면 -1  //  같으면 0\n",
        "\n",
        "def solution(numbers):\n",
        "    n = [str(x) for x in numbers]\n",
        "    n = sorted(n, key=functools.cmp_to_key(comparator),reverse=True)\n",
        "    answer = str(int(''.join(n)))\n",
        "    return answer"
      ],
      "execution_count": null,
      "outputs": []
    }
  ]
}