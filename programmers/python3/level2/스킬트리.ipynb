{
  "nbformat": 4,
  "nbformat_minor": 0,
  "metadata": {
    "colab": {
      "name": "스킬트리.ipynb",
      "provenance": [],
      "private_outputs": true,
      "collapsed_sections": [],
      "authorship_tag": "ABX9TyNgxKD1EK1YffgqM495fezu",
      "include_colab_link": true
    },
    "kernelspec": {
      "name": "python3",
      "display_name": "Python 3"
    }
  },
  "cells": [
    {
      "cell_type": "markdown",
      "metadata": {
        "id": "view-in-github",
        "colab_type": "text"
      },
      "source": [
        "<a href=\"https://colab.research.google.com/github/hyunji-ok/CODING-TEST/blob/master/programmers/python3/level2/%EC%8A%A4%ED%82%AC%ED%8A%B8%EB%A6%AC.ipynb\" target=\"_parent\"><img src=\"https://colab.research.google.com/assets/colab-badge.svg\" alt=\"Open In Colab\"/></a>"
      ]
    },
    {
      "cell_type": "markdown",
      "metadata": {
        "id": "uADGWjkA2Y1a",
        "colab_type": "text"
      },
      "source": [
        "[문제설명](https://programmers.co.kr/learn/courses/30/lessons/49993)"
      ]
    },
    {
      "cell_type": "code",
      "metadata": {
        "id": "op7aazo62Xil",
        "colab_type": "code",
        "colab": {}
      },
      "source": [
        "def solution(skill, skill_trees):\n",
        "    cnt = 0\n",
        "    for tree in skill_trees :\n",
        "        a = [tree.index(i) for i in skill if i in tree]\n",
        "        a_ = sorted(a)\n",
        "        if a == a_ and all(i in tree for i in skill[:len(a)]): cnt+=1\n",
        "    return cnt"
      ],
      "execution_count": null,
      "outputs": []
    }
  ]
}