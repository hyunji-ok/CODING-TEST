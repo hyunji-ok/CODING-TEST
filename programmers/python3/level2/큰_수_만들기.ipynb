{
  "nbformat": 4,
  "nbformat_minor": 0,
  "metadata": {
    "colab": {
      "name": "큰 수 만들기.ipynb",
      "provenance": [],
      "private_outputs": true,
      "collapsed_sections": [],
      "authorship_tag": "ABX9TyNOZpsaRbVj3Yr95EI1KNeB",
      "include_colab_link": true
    },
    "kernelspec": {
      "name": "python3",
      "display_name": "Python 3"
    }
  },
  "cells": [
    {
      "cell_type": "markdown",
      "metadata": {
        "id": "view-in-github",
        "colab_type": "text"
      },
      "source": [
        "<a href=\"https://colab.research.google.com/github/hyunji-ok/CODING-TEST/blob/master/programmers/python3/level2/%ED%81%B0_%EC%88%98_%EB%A7%8C%EB%93%A4%EA%B8%B0.ipynb\" target=\"_parent\"><img src=\"https://colab.research.google.com/assets/colab-badge.svg\" alt=\"Open In Colab\"/></a>"
      ]
    },
    {
      "cell_type": "markdown",
      "metadata": {
        "id": "bALucnyAZre8",
        "colab_type": "text"
      },
      "source": [
        "[큰 수 만들기](https://programmers.co.kr/learn/courses/30/lessons/42883)"
      ]
    },
    {
      "cell_type": "code",
      "metadata": {
        "id": "sWwI66l0ZqMZ",
        "colab_type": "code",
        "colab": {}
      },
      "source": [
        "def solution(number, k):\n",
        "    collected = []  # 숫자를 모아서 큰 수를 만들 때 쓰일 배열\n",
        "    # 문자열에도 모을 수 있지만 문자열은 immutable(값이 변하지 않는)특성을 가지기에 코드 효율은 리스트(mutable)다 더 좋다\n",
        "    # call by value , call by reference와 동일한 개념\n",
        "    for i, num in enumerate(number):\n",
        "        # k개 만큼의 숫자를 빼냈을 때, i의 인덱스를 기억하기 위해서 i를 사용\n",
        "        while len(collected) > 0 and collected[-1] < num and k > 0:\n",
        "            # 1. 맨 마지막 문자만 비교를 하면 될까? -> 그렇다. 지금까지 원칙을 지켜서 쌓아 왔다면 지금까지 쌓인 숫자들은 내림차순으로 되어있다.\n",
        "            # 2. collected의 마지막 원소는 한 문자로 이루어진 문자열이다. num 또한 한 글자 짜리 문자열이다. 이걸 정수로 변환하지 않고,\n",
        "            # 두개의 문자열에 대해서 대소관계를 이용해도 괜찮은가? -> 괜찮다. 알파벳 순서에 따르면 0은 1보다 작고, 3은 2보다 크고, 수의 크기 대소관계와 같다.\n",
        "            # ※ 길이가 2 이상이라면, 사전에 나타난 숫자가 되겠지만, 지금은 한글자 짜리기 때문에 정수 변환이 필요없다.\n",
        "            collected.pop()  # 리스트이 맨 끝에 있는 원소 하나를 없앤다.\n",
        "            k -= 1\n",
        "        if k == 0:\n",
        "            collected += list(number[i:])\n",
        "            break\n",
        "        collected.append(num)\n",
        "    collected = collected[:-k] if k > 0 else collected\n",
        "    # k가 0 이면 빈 리스트가 되기 때문에 if를 이용해서 조건을 걸어준다.\n",
        "    answer = ''.join(collected)\n",
        "    return answer"
      ],
      "execution_count": null,
      "outputs": []
    }
  ]
}