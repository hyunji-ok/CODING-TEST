{
  "nbformat": 4,
  "nbformat_minor": 0,
  "metadata": {
    "colab": {
      "name": "조이스틱.ipynb",
      "provenance": [],
      "private_outputs": true,
      "collapsed_sections": [],
      "authorship_tag": "ABX9TyMT3DZEf332Lhjvl2IozO2x",
      "include_colab_link": true
    },
    "kernelspec": {
      "name": "python3",
      "display_name": "Python 3"
    }
  },
  "cells": [
    {
      "cell_type": "markdown",
      "metadata": {
        "id": "view-in-github",
        "colab_type": "text"
      },
      "source": [
        "<a href=\"https://colab.research.google.com/github/hyunji-ok/CODING-TEST/blob/master/programmers/python3/level2/%EC%A1%B0%EC%9D%B4%EC%8A%A4%ED%8B%B1.ipynb\" target=\"_parent\"><img src=\"https://colab.research.google.com/assets/colab-badge.svg\" alt=\"Open In Colab\"/></a>"
      ]
    },
    {
      "cell_type": "markdown",
      "metadata": {
        "id": "daZ3BHewfVE0",
        "colab_type": "text"
      },
      "source": [
        "[문제 설명](https://programmers.co.kr/learn/courses/30/lessons/42860)"
      ]
    },
    {
      "cell_type": "code",
      "metadata": {
        "id": "C2q6VUa3fTU2",
        "colab_type": "code",
        "colab": {}
      },
      "source": [
        "def solution(name):\n",
        "    answer = 0\n",
        "    name=list(name)\n",
        "    index=0\n",
        "    while(True):\n",
        "        right=1\n",
        "        left=1\n",
        "        if name[index] != 'A': \n",
        "            updown = min(ord(name[index])-ord('A'),(ord('Z')-ord(name[index])+1))\n",
        "            answer += updown\n",
        "        name[index] = 'A'\n",
        "        if name == [\"A\"]*len(name): break\n",
        "        for i in range(1,len(name)):\n",
        "            if name[index+i]==\"A\": right+=1\n",
        "            else: break\n",
        "        for i in range(1,len(name)):\n",
        "            if name[index-i]==\"A\": left+=1\n",
        "            else: break\n",
        "        if right>left:\n",
        "            answer+=left\n",
        "            index-=left\n",
        "        else:\n",
        "            answer+=right\n",
        "            index+=right\n",
        "    return answer\n",
        "[출처] [프로그래머스] 조이스틱|작성자 재윤"
      ],
      "execution_count": null,
      "outputs": []
    }
  ]
}