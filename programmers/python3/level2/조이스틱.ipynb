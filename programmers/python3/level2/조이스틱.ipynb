{
  "nbformat": 4,
  "nbformat_minor": 0,
  "metadata": {
    "colab": {
      "name": "조이스틱.ipynb",
      "provenance": [],
      "private_outputs": true,
      "collapsed_sections": [],
      "authorship_tag": "ABX9TyPsX5wENi/mcnUILWmAYN3b",
      "include_colab_link": true
    },
    "kernelspec": {
      "name": "python3",
      "display_name": "Python 3"
    }
  },
  "cells": [
    {
      "cell_type": "markdown",
      "metadata": {
        "id": "view-in-github",
        "colab_type": "text"
      },
      "source": [
        "<a href=\"https://colab.research.google.com/github/hyunji-ok/CODING-TEST/blob/master/programmers/python3/level2/%EC%A1%B0%EC%9D%B4%EC%8A%A4%ED%8B%B1.ipynb\" target=\"_parent\"><img src=\"https://colab.research.google.com/assets/colab-badge.svg\" alt=\"Open In Colab\"/></a>"
      ]
    },
    {
      "cell_type": "markdown",
      "metadata": {
        "id": "daZ3BHewfVE0",
        "colab_type": "text"
      },
      "source": [
        "[문제 설명](https://programmers.co.kr/learn/courses/30/lessons/42860)"
      ]
    },
    {
      "cell_type": "code",
      "metadata": {
        "id": "C2q6VUa3fTU2",
        "colab_type": "code",
        "colab": {}
      },
      "source": [
        "def solution(name):\n",
        "    cnt=0 # 총 이동 횟수\n",
        "    a_cnt=0 # 'A'의 개수\n",
        "    a_max=0 # 'A'의 최대개수\n",
        "    idx=0 # 최대'A'개수 문자열의 마지막 인덱스\n",
        "    a_startIdx=0 # 최대'A'개수 문자열의 첫번째 인덱스\n",
        "    wander_cnt=0 # 좌우로 왔다갔다하는 횟수 카운트\n",
        "    \n",
        "    # 위, 아래 조이스틱 계산\n",
        "    for i, n in enumerate(name):\n",
        "        if n == 'A': # 'A'개수의 최대값과 그 인덱스 계산\n",
        "            a_cnt += 1\n",
        "            if a_cnt > a_max:\n",
        "                a_max = a_cnt\n",
        "                idx = i\n",
        "        else:\n",
        "            cnt += min(ord(n)-ord('A'), ord('Z')-ord(n)+1)\n",
        "            a_cnt = 0\n",
        "    \n",
        "    # 최대'A'개수의 시작 인덱스\n",
        "    a_startIdx = idx-a_max + 1\n",
        "    \n",
        "    # 최대'A'가 맨 앞이나 맨 끝에 있는 경우\n",
        "    if a_startIdx == 0 or idx == len(name) -1:\n",
        "        cnt += len(name)-1-a_max # a_max개만큼 이동 안해도 됨\n",
        "    else:\n",
        "        left = len(name)-idx-1 # 최대'A'뒤에 남아있는 문자의 개수\n",
        "        if a_startIdx <= left: # 뒤에 문자가 앞에 문자개수보다 많은 경우\n",
        "            wander_cnt = (a_startIdx-1)*2 + left\n",
        "        else:\n",
        "            wander_cnt = (a_startIdx-1) + left*2\n",
        "        cnt += min(wander_cnt, len(name)-1) # 그냥 한쪽방향으로 모두 이동하는 것과 비교\n",
        "\n",
        "    return cnt"
      ],
      "execution_count": null,
      "outputs": []
    }
  ]
}