{
  "nbformat": 4,
  "nbformat_minor": 0,
  "metadata": {
    "colab": {
      "name": "기능개발.ipynb",
      "provenance": [],
      "private_outputs": true,
      "collapsed_sections": [],
      "authorship_tag": "ABX9TyNwd7/P6phYkIqLFDUaAAtY",
      "include_colab_link": true
    },
    "kernelspec": {
      "name": "python3",
      "display_name": "Python 3"
    }
  },
  "cells": [
    {
      "cell_type": "markdown",
      "metadata": {
        "id": "view-in-github",
        "colab_type": "text"
      },
      "source": [
        "<a href=\"https://colab.research.google.com/github/hyunji-ok/CODING-TEST/blob/master/programmers/python3/level2/%EA%B8%B0%EB%8A%A5%EA%B0%9C%EB%B0%9C.ipynb\" target=\"_parent\"><img src=\"https://colab.research.google.com/assets/colab-badge.svg\" alt=\"Open In Colab\"/></a>"
      ]
    },
    {
      "cell_type": "markdown",
      "metadata": {
        "id": "cGFJHBbnEIEy",
        "colab_type": "text"
      },
      "source": [
        "[기능개발](https://programmers.co.kr/learn/courses/30/lessons/42586)"
      ]
    },
    {
      "cell_type": "code",
      "metadata": {
        "id": "q36zOP-aEG_T",
        "colab_type": "code",
        "colab": {}
      },
      "source": [
        "def solution(progresses, speeds):\n",
        "    Q=[]\n",
        "    for p, s in zip(progresses, speeds):\n",
        "        if len(Q)==0 or Q[-1][0]<-((p-100)//s):\n",
        "            Q.append([-((p-100)//s),1])\n",
        "        else:\n",
        "            Q[-1][1]+=1\n",
        "    return [q[1] for q in Q]"
      ],
      "execution_count": null,
      "outputs": []
    }
  ]
}