{
  "nbformat": 4,
  "nbformat_minor": 0,
  "metadata": {
    "colab": {
      "name": "기능개발.ipynb",
      "provenance": [],
      "private_outputs": true,
      "collapsed_sections": [],
      "authorship_tag": "ABX9TyMC+MTH3tIF35EE6LImE2As",
      "include_colab_link": true
    },
    "kernelspec": {
      "name": "python3",
      "display_name": "Python 3"
    }
  },
  "cells": [
    {
      "cell_type": "markdown",
      "metadata": {
        "id": "view-in-github",
        "colab_type": "text"
      },
      "source": [
        "<a href=\"https://colab.research.google.com/github/hyunji-ok/CODING-TEST/blob/master/programmers/python3/level2/%EA%B8%B0%EB%8A%A5%EA%B0%9C%EB%B0%9C.ipynb\" target=\"_parent\"><img src=\"https://colab.research.google.com/assets/colab-badge.svg\" alt=\"Open In Colab\"/></a>"
      ]
    },
    {
      "cell_type": "markdown",
      "metadata": {
        "id": "cGFJHBbnEIEy",
        "colab_type": "text"
      },
      "source": [
        "[기능개발](https://programmers.co.kr/learn/courses/30/lessons/42586)"
      ]
    },
    {
      "cell_type": "code",
      "metadata": {
        "id": "q36zOP-aEG_T",
        "colab_type": "code",
        "colab": {}
      },
      "source": [
        "import math\n",
        "def solution(progresses, speeds):\n",
        "answer = []\n",
        "progresses = [math.ceil((100-a)/b) for a, b in zip(progresses, speeds)]\n",
        "front = 0\n",
        "for idx in range(len(progresses)):\n",
        "if progresses[front] < progresses[idx]:\n",
        "answer.append(idx-front)\n",
        "front = idx\n",
        "answer.append(len(progresses)-front)\n",
        "return answer\n",
        "\n",
        "출처: https://geonlee.tistory.com/122 [빠리의 택시 운전사]"
      ],
      "execution_count": null,
      "outputs": []
    }
  ]
}