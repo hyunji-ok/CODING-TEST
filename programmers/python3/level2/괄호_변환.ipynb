{
  "nbformat": 4,
  "nbformat_minor": 0,
  "metadata": {
    "colab": {
      "name": "괄호 변환.ipynb",
      "provenance": [],
      "private_outputs": true,
      "collapsed_sections": [],
      "authorship_tag": "ABX9TyP2dHlmgcRUEY0LPXFDojgy",
      "include_colab_link": true
    },
    "kernelspec": {
      "name": "python3",
      "display_name": "Python 3"
    }
  },
  "cells": [
    {
      "cell_type": "markdown",
      "metadata": {
        "id": "view-in-github",
        "colab_type": "text"
      },
      "source": [
        "<a href=\"https://colab.research.google.com/github/hyunji-ok/CODING-TEST/blob/master/programmers/python3/level2/%EA%B4%84%ED%98%B8_%EB%B3%80%ED%99%98.ipynb\" target=\"_parent\"><img src=\"https://colab.research.google.com/assets/colab-badge.svg\" alt=\"Open In Colab\"/></a>"
      ]
    },
    {
      "cell_type": "markdown",
      "metadata": {
        "id": "AI8wTb2jGLZ3",
        "colab_type": "text"
      },
      "source": [
        "[괄호 변환](https://programmers.co.kr/learn/courses/30/lessons/60058)"
      ]
    },
    {
      "cell_type": "code",
      "metadata": {
        "id": "As4N9503GCtJ",
        "colab_type": "code",
        "colab": {}
      },
      "source": [
        "# 2. 문자열 w를 균형잡힌 괄호 문자열로 구분하는 함수.\n",
        "# 균형잡힌 괄호 문자열이 만들어지는 index를 반환한다.\n",
        "def balanced(p):\n",
        "    num = 0\n",
        "    temp = []\n",
        "    for idx, value in enumerate(p):\n",
        "        if value == \")\":\n",
        "            num -=1\n",
        "        if value == \"(\":\n",
        "            num +=1\n",
        "        if num == 0:\n",
        "            return idx\n",
        "\n",
        "# 3. 올바른 괄호 문자열인지 확인하는 함수\n",
        "def is_right(string):\n",
        "    temp = []\n",
        "    for i in string:\n",
        "        if i == \"(\":\n",
        "            temp.append(i)\n",
        "        else:\n",
        "            if len(temp) == 0:\n",
        "                return False\n",
        "            temp.pop()\n",
        "    if len(temp) != 0:\n",
        "        return False\n",
        "    return True\n",
        "\n",
        "def solution(p):\n",
        "    # 1. 빈 문자열이거나 문자열 전체가 올바른 괄호 문자열.. 그대로 반환한다.\n",
        "    if p == \"\" or is_right(p): return p\n",
        "    # 2. 문자열 w를 균형잡힌 괄호 문자열로 분리한다.\n",
        "    u, v = p[:balanced(p)+1], p[balanced(p)+1:]\n",
        "    # 3. 문자열 u가 올바른 괄호 문자열일 경우\n",
        "    if is_right(u):\n",
        "        # 3. 문자열 v를 1단계부터 수행\n",
        "        string = solution(v)\n",
        "        # 수행한 결과를 u에 이어붙여 반환한다.\n",
        "        return u + string\n",
        "    # 4. 올바른 괄호 문자열이 아닌 경우\n",
        "    else:\n",
        "        # 4.1 첫 번째 문자열 (\n",
        "        t = \"(\"\n",
        "        # 4.2 v를 재귀적으로 수행한 결과를 이어붙인다\n",
        "        t += solution(v)\n",
        "        # 4.3\n",
        "        t += \")\"\n",
        "        # 4.4 u의 맨 앞과 뒷문자 제거하고,\n",
        "        u = list(u[1:-1])\n",
        "        # 나머지 문자열의 괄호 방향을 뒤집는다.\n",
        "        for i in range(len(u)):\n",
        "            if u[i] == '(': \n",
        "                u[i] = \")\"\n",
        "            elif u[i] == \")\":\n",
        "                u[i] = \"(\"\n",
        "        t += \"\".join(u)\n",
        "        # 생성된 문자열을 반환한다.\n",
        "        return t"
      ],
      "execution_count": null,
      "outputs": []
    }
  ]
}