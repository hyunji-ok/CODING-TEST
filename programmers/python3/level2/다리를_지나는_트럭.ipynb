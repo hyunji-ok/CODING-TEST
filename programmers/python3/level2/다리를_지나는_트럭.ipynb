{
  "nbformat": 4,
  "nbformat_minor": 0,
  "metadata": {
    "colab": {
      "name": "다리를 지나는 트럭.ipynb",
      "provenance": [],
      "private_outputs": true,
      "collapsed_sections": [],
      "authorship_tag": "ABX9TyMOH1d9zWdZAC+5Z0YW676h",
      "include_colab_link": true
    },
    "kernelspec": {
      "name": "python3",
      "display_name": "Python 3"
    }
  },
  "cells": [
    {
      "cell_type": "markdown",
      "metadata": {
        "id": "view-in-github",
        "colab_type": "text"
      },
      "source": [
        "<a href=\"https://colab.research.google.com/github/hyunji-ok/CODING-TEST/blob/master/programmers/python3/level2/%EB%8B%A4%EB%A6%AC%EB%A5%BC_%EC%A7%80%EB%82%98%EB%8A%94_%ED%8A%B8%EB%9F%AD.ipynb\" target=\"_parent\"><img src=\"https://colab.research.google.com/assets/colab-badge.svg\" alt=\"Open In Colab\"/></a>"
      ]
    },
    {
      "cell_type": "markdown",
      "metadata": {
        "id": "vY89Sq5QuhcT",
        "colab_type": "text"
      },
      "source": [
        "[다리를 지나는 트럭](https://programmers.co.kr/learn/courses/30/lessons/42583)"
      ]
    },
    {
      "cell_type": "code",
      "metadata": {
        "id": "bVZ7xl8yueaC",
        "colab_type": "code",
        "colab": {}
      },
      "source": [
        "def solution(bridge_length, weight, truck_weights):\n",
        "    time = 0\n",
        "    q = [0] * bridge_length\n",
        "    \n",
        "    while q:\n",
        "        time += 1\n",
        "        q.pop(0)\n",
        "        if truck_weights:\n",
        "            if sum(q) + truck_weights[0] <= weight:\n",
        "                q.append(truck_weights.pop(0))\n",
        "            else:\n",
        "                q.append(0)\n",
        "    \n",
        "    return time"
      ],
      "execution_count": null,
      "outputs": []
    }
  ]
}