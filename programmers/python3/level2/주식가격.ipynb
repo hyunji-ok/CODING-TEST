{
  "nbformat": 4,
  "nbformat_minor": 0,
  "metadata": {
    "colab": {
      "name": "주식가격.ipynb",
      "provenance": [],
      "private_outputs": true,
      "collapsed_sections": [],
      "authorship_tag": "ABX9TyMcTojY58cJsdex7Uu/0LKq",
      "include_colab_link": true
    },
    "kernelspec": {
      "name": "python3",
      "display_name": "Python 3"
    }
  },
  "cells": [
    {
      "cell_type": "markdown",
      "metadata": {
        "id": "view-in-github",
        "colab_type": "text"
      },
      "source": [
        "<a href=\"https://colab.research.google.com/github/hyunji-ok/CODING-TEST/blob/master/programmers/python3/level2/%EC%A3%BC%EC%8B%9D%EA%B0%80%EA%B2%A9.ipynb\" target=\"_parent\"><img src=\"https://colab.research.google.com/assets/colab-badge.svg\" alt=\"Open In Colab\"/></a>"
      ]
    },
    {
      "cell_type": "markdown",
      "metadata": {
        "id": "-0Ywc4nqGsS_",
        "colab_type": "text"
      },
      "source": [
        "[문제설명](https://programmers.co.kr/learn/courses/30/lessons/42584)"
      ]
    },
    {
      "cell_type": "code",
      "metadata": {
        "id": "2KaqvS7KGrGK",
        "colab_type": "code",
        "colab": {}
      },
      "source": [
        "def solution(prices):\n",
        "    answer = [0] * len(prices)\n",
        "\n",
        "    for i in range(len(prices)-1):\n",
        "        for j in range(i, len(prices)-1):\n",
        "            if prices[i] >prices[j]:\n",
        "                break\n",
        "            else:\n",
        "                answer[i] +=1\n",
        "    return answer"
      ],
      "execution_count": null,
      "outputs": []
    }
  ]
}