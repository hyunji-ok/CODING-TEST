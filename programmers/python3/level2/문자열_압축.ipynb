{
  "nbformat": 4,
  "nbformat_minor": 0,
  "metadata": {
    "colab": {
      "name": "문자열 압축.ipynb",
      "provenance": [],
      "private_outputs": true,
      "collapsed_sections": [],
      "authorship_tag": "ABX9TyOzjBh5Wet21F23cQ9BIc19",
      "include_colab_link": true
    },
    "kernelspec": {
      "name": "python3",
      "display_name": "Python 3"
    }
  },
  "cells": [
    {
      "cell_type": "markdown",
      "metadata": {
        "id": "view-in-github",
        "colab_type": "text"
      },
      "source": [
        "<a href=\"https://colab.research.google.com/github/hyunji-ok/CODING-TEST/blob/master/programmers/python3/level2/%EB%AC%B8%EC%9E%90%EC%97%B4_%EC%95%95%EC%B6%95.ipynb\" target=\"_parent\"><img src=\"https://colab.research.google.com/assets/colab-badge.svg\" alt=\"Open In Colab\"/></a>"
      ]
    },
    {
      "cell_type": "markdown",
      "metadata": {
        "id": "mujXnF0m4ndA",
        "colab_type": "text"
      },
      "source": [
        "[문자열 압축](https://programmers.co.kr/learn/courses/30/lessons/60057)"
      ]
    },
    {
      "cell_type": "code",
      "metadata": {
        "id": "sytKtktd4kat",
        "colab_type": "code",
        "colab": {}
      },
      "source": [
        "def solution(s):\n",
        "    length = []\n",
        "    result = \"\"\n",
        "    \n",
        "    if len(s) == 1:\n",
        "        return 1\n",
        "    \n",
        "    for cut in range(1, len(s) // 2 + 1): \n",
        "        count = 1\n",
        "        tempStr = s[:cut] \n",
        "        for i in range(cut, len(s), cut):\n",
        "            if s[i:i+cut] == tempStr:\n",
        "                count += 1\n",
        "            else:\n",
        "                if count == 1:\n",
        "                    count = \"\"\n",
        "                result += str(count) + tempStr\n",
        "                tempStr = s[i:i+cut]\n",
        "                count = 1\n",
        "\n",
        "        if count == 1:\n",
        "            count = \"\"\n",
        "        result += str(count) + tempStr\n",
        "        length.append(len(result))\n",
        "        result = \"\"\n",
        "    \n",
        "    return min(length)"
      ],
      "execution_count": null,
      "outputs": []
    }
  ]
}