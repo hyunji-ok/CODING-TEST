{
  "nbformat": 4,
  "nbformat_minor": 0,
  "metadata": {
    "colab": {
      "name": "프린터.ipynb",
      "provenance": [],
      "private_outputs": true,
      "collapsed_sections": [],
      "authorship_tag": "ABX9TyPJCTQ3f+SQDQ1SCW3Z68G4",
      "include_colab_link": true
    },
    "kernelspec": {
      "name": "python3",
      "display_name": "Python 3"
    }
  },
  "cells": [
    {
      "cell_type": "markdown",
      "metadata": {
        "id": "view-in-github",
        "colab_type": "text"
      },
      "source": [
        "<a href=\"https://colab.research.google.com/github/hyunji-ok/CODING-TEST/blob/master/programmers/python3/level2/%ED%94%84%EB%A6%B0%ED%84%B0.ipynb\" target=\"_parent\"><img src=\"https://colab.research.google.com/assets/colab-badge.svg\" alt=\"Open In Colab\"/></a>"
      ]
    },
    {
      "cell_type": "markdown",
      "metadata": {
        "id": "_lea30f6SmkN",
        "colab_type": "text"
      },
      "source": [
        "[프린터](https://programmers.co.kr/learn/courses/30/lessons/42587)"
      ]
    },
    {
      "cell_type": "code",
      "metadata": {
        "id": "sYMeFXG-SlcF",
        "colab_type": "code",
        "colab": {}
      },
      "source": [
        "def solution(p, l):\n",
        "    ans = 0\n",
        "    m = max(p)\n",
        "    while True:\n",
        "        v = p.pop(0)\n",
        "        if m == v:\n",
        "            ans += 1\n",
        "            if l == 0:\n",
        "                break\n",
        "            else:\n",
        "                l -= 1\n",
        "            m = max(p)\n",
        "        else:\n",
        "            p.append(v)\n",
        "            if l == 0:\n",
        "                l = len(p)-1\n",
        "            else:\n",
        "                l -= 1\n",
        "    return ans"
      ],
      "execution_count": null,
      "outputs": []
    }
  ]
}